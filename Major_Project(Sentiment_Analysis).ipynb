{
  "nbformat": 4,
  "nbformat_minor": 0,
  "metadata": {
    "colab": {
      "name": "Major Project(Sentiment Analysis).ipynb",
      "provenance": [],
      "mount_file_id": "1Jma-7x7jXYIMNZts2YdU4D0TEdZn_6-U",
      "authorship_tag": "ABX9TyNyELZBxymkOCzao3rzpQks",
      "include_colab_link": true
    },
    "kernelspec": {
      "name": "python3",
      "display_name": "Python 3"
    },
    "language_info": {
      "name": "python"
    }
  },
  "cells": [
    {
      "cell_type": "markdown",
      "metadata": {
        "id": "view-in-github",
        "colab_type": "text"
      },
      "source": [
        "<a href=\"https://colab.research.google.com/github/prasadps2000/Major-Project/blob/main/Major_Project(Sentiment_Analysis).ipynb\" target=\"_parent\"><img src=\"https://colab.research.google.com/assets/colab-badge.svg\" alt=\"Open In Colab\"/></a>"
      ]
    },
    {
      "cell_type": "code",
      "metadata": {
        "colab": {
          "base_uri": "https://localhost:8080/"
        },
        "id": "rpo2U05n6BLy",
        "outputId": "917ad78f-fa9a-481d-cee9-12b9748db900"
      },
      "source": [
        "import pandas as pd\n",
        "import numpy as np\n",
        "from scipy.stats import randint\n",
        "from io import StringIO\n",
        "from sklearn.feature_extraction.text import TfidfVectorizer\n",
        "from sklearn.feature_selection import chi2\n",
        "from IPython.display import display\n",
        "from sklearn.model_selection import train_test_split\n",
        "import seaborn as sns # used for plot interactive graph. \n",
        "import matplotlib.pyplot as plt\n",
        "import seaborn as sns\n",
        "from sklearn.feature_extraction.text import TfidfTransformer\n",
        "from sklearn.naive_bayes import MultinomialNB\n",
        "from sklearn.linear_model import LogisticRegression\n",
        "from sklearn.ensemble import RandomForestClassifier\n",
        "from sklearn.svm import LinearSVC\n",
        "from sklearn.model_selection import cross_val_score\n",
        "from sklearn.metrics import confusion_matrix\n",
        "from sklearn import metrics\n",
        "import nltk\n",
        "nltk.download('stopwords')"
      ],
      "execution_count": null,
      "outputs": [
        {
          "output_type": "stream",
          "text": [
            "[nltk_data] Downloading package stopwords to /root/nltk_data...\n",
            "[nltk_data]   Package stopwords is already up-to-date!\n"
          ],
          "name": "stdout"
        },
        {
          "output_type": "execute_result",
          "data": {
            "text/plain": [
              "True"
            ]
          },
          "metadata": {
            "tags": []
          },
          "execution_count": 2
        }
      ]
    },
    {
      "cell_type": "code",
      "metadata": {
        "colab": {
          "base_uri": "https://localhost:8080/"
        },
        "id": "wLUdtm_o6MhV",
        "outputId": "eba405dd-c5ae-42ba-bfcd-03aa69ea2e3c"
      },
      "source": [
        "# Data loading from csv\n",
        "df = pd.read_csv('/content/drive/MyDrive/Major Project(Smartknower)/Dataset.csv')\n",
        "df.shape"
      ],
      "execution_count": null,
      "outputs": [
        {
          "output_type": "execute_result",
          "data": {
            "text/plain": [
              "(499, 2)"
            ]
          },
          "metadata": {
            "tags": []
          },
          "execution_count": 4
        }
      ]
    },
    {
      "cell_type": "code",
      "metadata": {
        "colab": {
          "base_uri": "https://localhost:8080/",
          "height": 195
        },
        "id": "qNa1PPv_6NAR",
        "outputId": "9410a537-8dee-4866-981c-4d7d4cdf4a37"
      },
      "source": [
        "df.head()\n"
      ],
      "execution_count": null,
      "outputs": [
        {
          "output_type": "execute_result",
          "data": {
            "text/html": [
              "<div>\n",
              "<style scoped>\n",
              "    .dataframe tbody tr th:only-of-type {\n",
              "        vertical-align: middle;\n",
              "    }\n",
              "\n",
              "    .dataframe tbody tr th {\n",
              "        vertical-align: top;\n",
              "    }\n",
              "\n",
              "    .dataframe thead th {\n",
              "        text-align: right;\n",
              "    }\n",
              "</style>\n",
              "<table border=\"1\" class=\"dataframe\">\n",
              "  <thead>\n",
              "    <tr style=\"text-align: right;\">\n",
              "      <th></th>\n",
              "      <th>id</th>\n",
              "      <th>Tweet</th>\n",
              "    </tr>\n",
              "  </thead>\n",
              "  <tbody>\n",
              "    <tr>\n",
              "      <th>0</th>\n",
              "      <td>7921</td>\n",
              "      <td>I hate the new #iphone upgrade. Won't let me d...</td>\n",
              "    </tr>\n",
              "    <tr>\n",
              "      <th>1</th>\n",
              "      <td>7922</td>\n",
              "      <td>currently shitting my fucking pants. #apple #i...</td>\n",
              "    </tr>\n",
              "    <tr>\n",
              "      <th>2</th>\n",
              "      <td>7923</td>\n",
              "      <td>I'd like to puts some CD-ROMS on my iPad, is t...</td>\n",
              "    </tr>\n",
              "    <tr>\n",
              "      <th>3</th>\n",
              "      <td>7924</td>\n",
              "      <td>My ipod is officially dead. I lost all my pict...</td>\n",
              "    </tr>\n",
              "    <tr>\n",
              "      <th>4</th>\n",
              "      <td>7925</td>\n",
              "      <td>Been fighting iTunes all night! I only want th...</td>\n",
              "    </tr>\n",
              "  </tbody>\n",
              "</table>\n",
              "</div>"
            ],
            "text/plain": [
              "     id                                              Tweet\n",
              "0  7921  I hate the new #iphone upgrade. Won't let me d...\n",
              "1  7922  currently shitting my fucking pants. #apple #i...\n",
              "2  7923  I'd like to puts some CD-ROMS on my iPad, is t...\n",
              "3  7924  My ipod is officially dead. I lost all my pict...\n",
              "4  7925  Been fighting iTunes all night! I only want th..."
            ]
          },
          "metadata": {
            "tags": []
          },
          "execution_count": 5
        }
      ]
    },
    {
      "cell_type": "code",
      "metadata": {
        "colab": {
          "base_uri": "https://localhost:8080/",
          "height": 266
        },
        "id": "vHJ498IQ6WnW",
        "outputId": "3fdf06bf-cc38-4989-b1dc-f812f0289f26"
      },
      "source": [
        "import nltk\n",
        "nltk.download('vader_lexicon')\n",
        "from nltk.sentiment.vader import SentimentIntensityAnalyzer\n",
        "\n",
        "sid = SentimentIntensityAnalyzer()\n",
        "df['score2'] = df['Tweet'].apply(lambda review: sid.polarity_scores(review))\n",
        "\n",
        "df.head()"
      ],
      "execution_count": null,
      "outputs": [
        {
          "output_type": "stream",
          "text": [
            "[nltk_data] Downloading package vader_lexicon to /root/nltk_data...\n"
          ],
          "name": "stdout"
        },
        {
          "output_type": "stream",
          "text": [
            "/usr/local/lib/python3.7/dist-packages/nltk/twitter/__init__.py:20: UserWarning: The twython library has not been installed. Some functionality from the twitter package will not be available.\n",
            "  warnings.warn(\"The twython library has not been installed. \"\n"
          ],
          "name": "stderr"
        },
        {
          "output_type": "execute_result",
          "data": {
            "text/html": [
              "<div>\n",
              "<style scoped>\n",
              "    .dataframe tbody tr th:only-of-type {\n",
              "        vertical-align: middle;\n",
              "    }\n",
              "\n",
              "    .dataframe tbody tr th {\n",
              "        vertical-align: top;\n",
              "    }\n",
              "\n",
              "    .dataframe thead th {\n",
              "        text-align: right;\n",
              "    }\n",
              "</style>\n",
              "<table border=\"1\" class=\"dataframe\">\n",
              "  <thead>\n",
              "    <tr style=\"text-align: right;\">\n",
              "      <th></th>\n",
              "      <th>id</th>\n",
              "      <th>Tweet</th>\n",
              "      <th>score2</th>\n",
              "    </tr>\n",
              "  </thead>\n",
              "  <tbody>\n",
              "    <tr>\n",
              "      <th>0</th>\n",
              "      <td>7921</td>\n",
              "      <td>I hate the new #iphone upgrade. Won't let me d...</td>\n",
              "      <td>{'neg': 0.36, 'neu': 0.64, 'pos': 0.0, 'compou...</td>\n",
              "    </tr>\n",
              "    <tr>\n",
              "      <th>1</th>\n",
              "      <td>7922</td>\n",
              "      <td>currently shitting my fucking pants. #apple #i...</td>\n",
              "      <td>{'neg': 0.219, 'neu': 0.781, 'pos': 0.0, 'comp...</td>\n",
              "    </tr>\n",
              "    <tr>\n",
              "      <th>2</th>\n",
              "      <td>7923</td>\n",
              "      <td>I'd like to puts some CD-ROMS on my iPad, is t...</td>\n",
              "      <td>{'neg': 0.0, 'neu': 0.694, 'pos': 0.306, 'comp...</td>\n",
              "    </tr>\n",
              "    <tr>\n",
              "      <th>3</th>\n",
              "      <td>7924</td>\n",
              "      <td>My ipod is officially dead. I lost all my pict...</td>\n",
              "      <td>{'neg': 0.248, 'neu': 0.752, 'pos': 0.0, 'comp...</td>\n",
              "    </tr>\n",
              "    <tr>\n",
              "      <th>4</th>\n",
              "      <td>7925</td>\n",
              "      <td>Been fighting iTunes all night! I only want th...</td>\n",
              "      <td>{'neg': 0.198, 'neu': 0.71, 'pos': 0.092, 'com...</td>\n",
              "    </tr>\n",
              "  </tbody>\n",
              "</table>\n",
              "</div>"
            ],
            "text/plain": [
              "     id  ...                                             score2\n",
              "0  7921  ...  {'neg': 0.36, 'neu': 0.64, 'pos': 0.0, 'compou...\n",
              "1  7922  ...  {'neg': 0.219, 'neu': 0.781, 'pos': 0.0, 'comp...\n",
              "2  7923  ...  {'neg': 0.0, 'neu': 0.694, 'pos': 0.306, 'comp...\n",
              "3  7924  ...  {'neg': 0.248, 'neu': 0.752, 'pos': 0.0, 'comp...\n",
              "4  7925  ...  {'neg': 0.198, 'neu': 0.71, 'pos': 0.092, 'com...\n",
              "\n",
              "[5 rows x 3 columns]"
            ]
          },
          "metadata": {
            "tags": []
          },
          "execution_count": 6
        }
      ]
    },
    {
      "cell_type": "code",
      "metadata": {
        "colab": {
          "base_uri": "https://localhost:8080/",
          "height": 195
        },
        "id": "LyYr6PwP6ZPP",
        "outputId": "2c205f4a-d67c-4807-ea3a-d7a6d289a3c8"
      },
      "source": [
        "df['compound']  = df['score2'].apply(lambda score_dict: score_dict['compound'])\n",
        "\n",
        "df.head()"
      ],
      "execution_count": null,
      "outputs": [
        {
          "output_type": "execute_result",
          "data": {
            "text/html": [
              "<div>\n",
              "<style scoped>\n",
              "    .dataframe tbody tr th:only-of-type {\n",
              "        vertical-align: middle;\n",
              "    }\n",
              "\n",
              "    .dataframe tbody tr th {\n",
              "        vertical-align: top;\n",
              "    }\n",
              "\n",
              "    .dataframe thead th {\n",
              "        text-align: right;\n",
              "    }\n",
              "</style>\n",
              "<table border=\"1\" class=\"dataframe\">\n",
              "  <thead>\n",
              "    <tr style=\"text-align: right;\">\n",
              "      <th></th>\n",
              "      <th>id</th>\n",
              "      <th>Tweet</th>\n",
              "      <th>score2</th>\n",
              "      <th>compound</th>\n",
              "    </tr>\n",
              "  </thead>\n",
              "  <tbody>\n",
              "    <tr>\n",
              "      <th>0</th>\n",
              "      <td>7921</td>\n",
              "      <td>I hate the new #iphone upgrade. Won't let me d...</td>\n",
              "      <td>{'neg': 0.36, 'neu': 0.64, 'pos': 0.0, 'compou...</td>\n",
              "      <td>-0.7351</td>\n",
              "    </tr>\n",
              "    <tr>\n",
              "      <th>1</th>\n",
              "      <td>7922</td>\n",
              "      <td>currently shitting my fucking pants. #apple #i...</td>\n",
              "      <td>{'neg': 0.219, 'neu': 0.781, 'pos': 0.0, 'comp...</td>\n",
              "      <td>-0.4215</td>\n",
              "    </tr>\n",
              "    <tr>\n",
              "      <th>2</th>\n",
              "      <td>7923</td>\n",
              "      <td>I'd like to puts some CD-ROMS on my iPad, is t...</td>\n",
              "      <td>{'neg': 0.0, 'neu': 0.694, 'pos': 0.306, 'comp...</td>\n",
              "      <td>0.7243</td>\n",
              "    </tr>\n",
              "    <tr>\n",
              "      <th>3</th>\n",
              "      <td>7924</td>\n",
              "      <td>My ipod is officially dead. I lost all my pict...</td>\n",
              "      <td>{'neg': 0.248, 'neu': 0.752, 'pos': 0.0, 'comp...</td>\n",
              "      <td>-0.7650</td>\n",
              "    </tr>\n",
              "    <tr>\n",
              "      <th>4</th>\n",
              "      <td>7925</td>\n",
              "      <td>Been fighting iTunes all night! I only want th...</td>\n",
              "      <td>{'neg': 0.198, 'neu': 0.71, 'pos': 0.092, 'com...</td>\n",
              "      <td>-0.3595</td>\n",
              "    </tr>\n",
              "  </tbody>\n",
              "</table>\n",
              "</div>"
            ],
            "text/plain": [
              "     id  ... compound\n",
              "0  7921  ...  -0.7351\n",
              "1  7922  ...  -0.4215\n",
              "2  7923  ...   0.7243\n",
              "3  7924  ...  -0.7650\n",
              "4  7925  ...  -0.3595\n",
              "\n",
              "[5 rows x 4 columns]"
            ]
          },
          "metadata": {
            "tags": []
          },
          "execution_count": 7
        }
      ]
    },
    {
      "cell_type": "code",
      "metadata": {
        "colab": {
          "base_uri": "https://localhost:8080/",
          "height": 195
        },
        "id": "rXMbvYtZ6b_U",
        "outputId": "a0259ce5-1e73-41d1-8d4f-d0c9764dff55"
      },
      "source": [
        "df['comp_score'] = df['compound'].apply(lambda c: 'pos' if c >=0 else 'neg')\n",
        "\n",
        "df.head()"
      ],
      "execution_count": null,
      "outputs": [
        {
          "output_type": "execute_result",
          "data": {
            "text/html": [
              "<div>\n",
              "<style scoped>\n",
              "    .dataframe tbody tr th:only-of-type {\n",
              "        vertical-align: middle;\n",
              "    }\n",
              "\n",
              "    .dataframe tbody tr th {\n",
              "        vertical-align: top;\n",
              "    }\n",
              "\n",
              "    .dataframe thead th {\n",
              "        text-align: right;\n",
              "    }\n",
              "</style>\n",
              "<table border=\"1\" class=\"dataframe\">\n",
              "  <thead>\n",
              "    <tr style=\"text-align: right;\">\n",
              "      <th></th>\n",
              "      <th>id</th>\n",
              "      <th>Tweet</th>\n",
              "      <th>score2</th>\n",
              "      <th>compound</th>\n",
              "      <th>comp_score</th>\n",
              "    </tr>\n",
              "  </thead>\n",
              "  <tbody>\n",
              "    <tr>\n",
              "      <th>0</th>\n",
              "      <td>7921</td>\n",
              "      <td>I hate the new #iphone upgrade. Won't let me d...</td>\n",
              "      <td>{'neg': 0.36, 'neu': 0.64, 'pos': 0.0, 'compou...</td>\n",
              "      <td>-0.7351</td>\n",
              "      <td>neg</td>\n",
              "    </tr>\n",
              "    <tr>\n",
              "      <th>1</th>\n",
              "      <td>7922</td>\n",
              "      <td>currently shitting my fucking pants. #apple #i...</td>\n",
              "      <td>{'neg': 0.219, 'neu': 0.781, 'pos': 0.0, 'comp...</td>\n",
              "      <td>-0.4215</td>\n",
              "      <td>neg</td>\n",
              "    </tr>\n",
              "    <tr>\n",
              "      <th>2</th>\n",
              "      <td>7923</td>\n",
              "      <td>I'd like to puts some CD-ROMS on my iPad, is t...</td>\n",
              "      <td>{'neg': 0.0, 'neu': 0.694, 'pos': 0.306, 'comp...</td>\n",
              "      <td>0.7243</td>\n",
              "      <td>pos</td>\n",
              "    </tr>\n",
              "    <tr>\n",
              "      <th>3</th>\n",
              "      <td>7924</td>\n",
              "      <td>My ipod is officially dead. I lost all my pict...</td>\n",
              "      <td>{'neg': 0.248, 'neu': 0.752, 'pos': 0.0, 'comp...</td>\n",
              "      <td>-0.7650</td>\n",
              "      <td>neg</td>\n",
              "    </tr>\n",
              "    <tr>\n",
              "      <th>4</th>\n",
              "      <td>7925</td>\n",
              "      <td>Been fighting iTunes all night! I only want th...</td>\n",
              "      <td>{'neg': 0.198, 'neu': 0.71, 'pos': 0.092, 'com...</td>\n",
              "      <td>-0.3595</td>\n",
              "      <td>neg</td>\n",
              "    </tr>\n",
              "  </tbody>\n",
              "</table>\n",
              "</div>"
            ],
            "text/plain": [
              "     id                                              Tweet  ... compound  comp_score\n",
              "0  7921  I hate the new #iphone upgrade. Won't let me d...  ...  -0.7351         neg\n",
              "1  7922  currently shitting my fucking pants. #apple #i...  ...  -0.4215         neg\n",
              "2  7923  I'd like to puts some CD-ROMS on my iPad, is t...  ...   0.7243         pos\n",
              "3  7924  My ipod is officially dead. I lost all my pict...  ...  -0.7650         neg\n",
              "4  7925  Been fighting iTunes all night! I only want th...  ...  -0.3595         neg\n",
              "\n",
              "[5 rows x 5 columns]"
            ]
          },
          "metadata": {
            "tags": []
          },
          "execution_count": 8
        }
      ]
    },
    {
      "cell_type": "code",
      "metadata": {
        "colab": {
          "base_uri": "https://localhost:8080/",
          "height": 418
        },
        "id": "jGVcsbjw6d1Z",
        "outputId": "4fc28a70-eba2-42d6-98a5-7f6215f97ff6"
      },
      "source": [
        "df = df.sort_values(by ='compound' )\n",
        "print(\"Contents of Sorted Dataframe based on a single column 'compound' : \")\n",
        "df\n"
      ],
      "execution_count": null,
      "outputs": [
        {
          "output_type": "stream",
          "text": [
            "Contents of Sorted Dataframe based on a single column 'compound' : \n"
          ],
          "name": "stdout"
        },
        {
          "output_type": "execute_result",
          "data": {
            "text/html": [
              "<div>\n",
              "<style scoped>\n",
              "    .dataframe tbody tr th:only-of-type {\n",
              "        vertical-align: middle;\n",
              "    }\n",
              "\n",
              "    .dataframe tbody tr th {\n",
              "        vertical-align: top;\n",
              "    }\n",
              "\n",
              "    .dataframe thead th {\n",
              "        text-align: right;\n",
              "    }\n",
              "</style>\n",
              "<table border=\"1\" class=\"dataframe\">\n",
              "  <thead>\n",
              "    <tr style=\"text-align: right;\">\n",
              "      <th></th>\n",
              "      <th>id</th>\n",
              "      <th>Tweet</th>\n",
              "      <th>score2</th>\n",
              "      <th>compound</th>\n",
              "      <th>comp_score</th>\n",
              "    </tr>\n",
              "  </thead>\n",
              "  <tbody>\n",
              "    <tr>\n",
              "      <th>366</th>\n",
              "      <td>8287</td>\n",
              "      <td>(YouTube) The Murder of Antoinette Chase – Mur...</td>\n",
              "      <td>{'neg': 0.432, 'neu': 0.568, 'pos': 0.0, 'comp...</td>\n",
              "      <td>-0.9403</td>\n",
              "      <td>neg</td>\n",
              "    </tr>\n",
              "    <tr>\n",
              "      <th>486</th>\n",
              "      <td>8407</td>\n",
              "      <td>Dear #iphone5 FUCK YOU!! YOURE MAKING MY 4 CRA...</td>\n",
              "      <td>{'neg': 0.411, 'neu': 0.511, 'pos': 0.078, 'co...</td>\n",
              "      <td>-0.9197</td>\n",
              "      <td>neg</td>\n",
              "    </tr>\n",
              "    <tr>\n",
              "      <th>28</th>\n",
              "      <td>7949</td>\n",
              "      <td>My iPhone 5 charger has broken. I bought two n...</td>\n",
              "      <td>{'neg': 0.481, 'neu': 0.519, 'pos': 0.0, 'comp...</td>\n",
              "      <td>-0.9186</td>\n",
              "      <td>neg</td>\n",
              "    </tr>\n",
              "    <tr>\n",
              "      <th>100</th>\n",
              "      <td>8021</td>\n",
              "      <td>#Apple is trying to ban all #HTC phones from t...</td>\n",
              "      <td>{'neg': 0.382, 'neu': 0.618, 'pos': 0.0, 'comp...</td>\n",
              "      <td>-0.8948</td>\n",
              "      <td>neg</td>\n",
              "    </tr>\n",
              "    <tr>\n",
              "      <th>145</th>\n",
              "      <td>8066</td>\n",
              "      <td>“@WeeShanksy: Stupid shitty hateful phone has ...</td>\n",
              "      <td>{'neg': 0.481, 'neu': 0.519, 'pos': 0.0, 'comp...</td>\n",
              "      <td>-0.8807</td>\n",
              "      <td>neg</td>\n",
              "    </tr>\n",
              "    <tr>\n",
              "      <th>...</th>\n",
              "      <td>...</td>\n",
              "      <td>...</td>\n",
              "      <td>...</td>\n",
              "      <td>...</td>\n",
              "      <td>...</td>\n",
              "    </tr>\n",
              "    <tr>\n",
              "      <th>194</th>\n",
              "      <td>8115</td>\n",
              "      <td>Woo hoo! Happy girl! Thank u Samsung! #samsung...</td>\n",
              "      <td>{'neg': 0.0, 'neu': 0.469, 'pos': 0.531, 'comp...</td>\n",
              "      <td>0.8800</td>\n",
              "      <td>pos</td>\n",
              "    </tr>\n",
              "    <tr>\n",
              "      <th>241</th>\n",
              "      <td>8162</td>\n",
              "      <td>Yey! Thank you papa. ^_^ I already love this p...</td>\n",
              "      <td>{'neg': 0.0, 'neu': 0.539, 'pos': 0.461, 'comp...</td>\n",
              "      <td>0.8829</td>\n",
              "      <td>pos</td>\n",
              "    </tr>\n",
              "    <tr>\n",
              "      <th>378</th>\n",
              "      <td>8299</td>\n",
              "      <td>Best ( IPTV ) Servers for 2018 Download it now...</td>\n",
              "      <td>{'neg': 0.0, 'neu': 0.73, 'pos': 0.27, 'compou...</td>\n",
              "      <td>0.8934</td>\n",
              "      <td>pos</td>\n",
              "    </tr>\n",
              "    <tr>\n",
              "      <th>458</th>\n",
              "      <td>8379</td>\n",
              "      <td>Wow what a great day. #iphonex arrived and it’...</td>\n",
              "      <td>{'neg': 0.0, 'neu': 0.456, 'pos': 0.544, 'comp...</td>\n",
              "      <td>0.9477</td>\n",
              "      <td>pos</td>\n",
              "    </tr>\n",
              "    <tr>\n",
              "      <th>92</th>\n",
              "      <td>8013</td>\n",
              "      <td>My wonderful husband just bought me the new #i...</td>\n",
              "      <td>{'neg': 0.0, 'neu': 0.527, 'pos': 0.473, 'comp...</td>\n",
              "      <td>0.9526</td>\n",
              "      <td>pos</td>\n",
              "    </tr>\n",
              "  </tbody>\n",
              "</table>\n",
              "<p>499 rows × 5 columns</p>\n",
              "</div>"
            ],
            "text/plain": [
              "       id  ... comp_score\n",
              "366  8287  ...        neg\n",
              "486  8407  ...        neg\n",
              "28   7949  ...        neg\n",
              "100  8021  ...        neg\n",
              "145  8066  ...        neg\n",
              "..    ...  ...        ...\n",
              "194  8115  ...        pos\n",
              "241  8162  ...        pos\n",
              "378  8299  ...        pos\n",
              "458  8379  ...        pos\n",
              "92   8013  ...        pos\n",
              "\n",
              "[499 rows x 5 columns]"
            ]
          },
          "metadata": {
            "tags": []
          },
          "execution_count": 9
        }
      ]
    },
    {
      "cell_type": "code",
      "metadata": {
        "colab": {
          "base_uri": "https://localhost:8080/",
          "height": 284
        },
        "id": "NQE0yTua6hvq",
        "outputId": "5da92727-71c1-4509-d803-f9f61124a75d"
      },
      "source": [
        "df.describe()"
      ],
      "execution_count": null,
      "outputs": [
        {
          "output_type": "execute_result",
          "data": {
            "text/html": [
              "<div>\n",
              "<style scoped>\n",
              "    .dataframe tbody tr th:only-of-type {\n",
              "        vertical-align: middle;\n",
              "    }\n",
              "\n",
              "    .dataframe tbody tr th {\n",
              "        vertical-align: top;\n",
              "    }\n",
              "\n",
              "    .dataframe thead th {\n",
              "        text-align: right;\n",
              "    }\n",
              "</style>\n",
              "<table border=\"1\" class=\"dataframe\">\n",
              "  <thead>\n",
              "    <tr style=\"text-align: right;\">\n",
              "      <th></th>\n",
              "      <th>id</th>\n",
              "      <th>compound</th>\n",
              "    </tr>\n",
              "  </thead>\n",
              "  <tbody>\n",
              "    <tr>\n",
              "      <th>count</th>\n",
              "      <td>499.000000</td>\n",
              "      <td>499.000000</td>\n",
              "    </tr>\n",
              "    <tr>\n",
              "      <th>mean</th>\n",
              "      <td>8170.000000</td>\n",
              "      <td>0.146650</td>\n",
              "    </tr>\n",
              "    <tr>\n",
              "      <th>std</th>\n",
              "      <td>144.193157</td>\n",
              "      <td>0.432215</td>\n",
              "    </tr>\n",
              "    <tr>\n",
              "      <th>min</th>\n",
              "      <td>7921.000000</td>\n",
              "      <td>-0.940300</td>\n",
              "    </tr>\n",
              "    <tr>\n",
              "      <th>25%</th>\n",
              "      <td>8045.500000</td>\n",
              "      <td>0.000000</td>\n",
              "    </tr>\n",
              "    <tr>\n",
              "      <th>50%</th>\n",
              "      <td>8170.000000</td>\n",
              "      <td>0.000000</td>\n",
              "    </tr>\n",
              "    <tr>\n",
              "      <th>75%</th>\n",
              "      <td>8294.500000</td>\n",
              "      <td>0.509950</td>\n",
              "    </tr>\n",
              "    <tr>\n",
              "      <th>max</th>\n",
              "      <td>8419.000000</td>\n",
              "      <td>0.952600</td>\n",
              "    </tr>\n",
              "  </tbody>\n",
              "</table>\n",
              "</div>"
            ],
            "text/plain": [
              "                id    compound\n",
              "count   499.000000  499.000000\n",
              "mean   8170.000000    0.146650\n",
              "std     144.193157    0.432215\n",
              "min    7921.000000   -0.940300\n",
              "25%    8045.500000    0.000000\n",
              "50%    8170.000000    0.000000\n",
              "75%    8294.500000    0.509950\n",
              "max    8419.000000    0.952600"
            ]
          },
          "metadata": {
            "tags": []
          },
          "execution_count": 10
        }
      ]
    },
    {
      "cell_type": "code",
      "metadata": {
        "colab": {
          "base_uri": "https://localhost:8080/",
          "height": 166
        },
        "id": "99vtZz4h6jj4",
        "outputId": "269a97b6-3b04-466d-fbf2-74d072f2c895"
      },
      "source": [
        "df.groupby('comp_score').describe()"
      ],
      "execution_count": null,
      "outputs": [
        {
          "output_type": "execute_result",
          "data": {
            "text/html": [
              "<div>\n",
              "<style scoped>\n",
              "    .dataframe tbody tr th:only-of-type {\n",
              "        vertical-align: middle;\n",
              "    }\n",
              "\n",
              "    .dataframe tbody tr th {\n",
              "        vertical-align: top;\n",
              "    }\n",
              "\n",
              "    .dataframe thead tr th {\n",
              "        text-align: left;\n",
              "    }\n",
              "\n",
              "    .dataframe thead tr:last-of-type th {\n",
              "        text-align: right;\n",
              "    }\n",
              "</style>\n",
              "<table border=\"1\" class=\"dataframe\">\n",
              "  <thead>\n",
              "    <tr>\n",
              "      <th></th>\n",
              "      <th colspan=\"8\" halign=\"left\">id</th>\n",
              "      <th colspan=\"8\" halign=\"left\">compound</th>\n",
              "    </tr>\n",
              "    <tr>\n",
              "      <th></th>\n",
              "      <th>count</th>\n",
              "      <th>mean</th>\n",
              "      <th>std</th>\n",
              "      <th>min</th>\n",
              "      <th>25%</th>\n",
              "      <th>50%</th>\n",
              "      <th>75%</th>\n",
              "      <th>max</th>\n",
              "      <th>count</th>\n",
              "      <th>mean</th>\n",
              "      <th>std</th>\n",
              "      <th>min</th>\n",
              "      <th>25%</th>\n",
              "      <th>50%</th>\n",
              "      <th>75%</th>\n",
              "      <th>max</th>\n",
              "    </tr>\n",
              "    <tr>\n",
              "      <th>comp_score</th>\n",
              "      <th></th>\n",
              "      <th></th>\n",
              "      <th></th>\n",
              "      <th></th>\n",
              "      <th></th>\n",
              "      <th></th>\n",
              "      <th></th>\n",
              "      <th></th>\n",
              "      <th></th>\n",
              "      <th></th>\n",
              "      <th></th>\n",
              "      <th></th>\n",
              "      <th></th>\n",
              "      <th></th>\n",
              "      <th></th>\n",
              "      <th></th>\n",
              "    </tr>\n",
              "  </thead>\n",
              "  <tbody>\n",
              "    <tr>\n",
              "      <th>neg</th>\n",
              "      <td>99.0</td>\n",
              "      <td>8160.939394</td>\n",
              "      <td>151.116648</td>\n",
              "      <td>7921.0</td>\n",
              "      <td>8020.50</td>\n",
              "      <td>8168.0</td>\n",
              "      <td>8296.00</td>\n",
              "      <td>8410.0</td>\n",
              "      <td>99.0</td>\n",
              "      <td>-0.467268</td>\n",
              "      <td>0.237872</td>\n",
              "      <td>-0.9403</td>\n",
              "      <td>-0.64665</td>\n",
              "      <td>-0.47410</td>\n",
              "      <td>-0.285750</td>\n",
              "      <td>-0.0387</td>\n",
              "    </tr>\n",
              "    <tr>\n",
              "      <th>pos</th>\n",
              "      <td>400.0</td>\n",
              "      <td>8172.242500</td>\n",
              "      <td>142.534870</td>\n",
              "      <td>7923.0</td>\n",
              "      <td>8054.75</td>\n",
              "      <td>8171.5</td>\n",
              "      <td>8293.25</td>\n",
              "      <td>8419.0</td>\n",
              "      <td>400.0</td>\n",
              "      <td>0.298595</td>\n",
              "      <td>0.320318</td>\n",
              "      <td>0.0000</td>\n",
              "      <td>0.00000</td>\n",
              "      <td>0.20495</td>\n",
              "      <td>0.611425</td>\n",
              "      <td>0.9526</td>\n",
              "    </tr>\n",
              "  </tbody>\n",
              "</table>\n",
              "</div>"
            ],
            "text/plain": [
              "               id                           ... compound                  \n",
              "            count         mean         std  ...      50%       75%     max\n",
              "comp_score                                  ...                           \n",
              "neg          99.0  8160.939394  151.116648  ... -0.47410 -0.285750 -0.0387\n",
              "pos         400.0  8172.242500  142.534870  ...  0.20495  0.611425  0.9526\n",
              "\n",
              "[2 rows x 16 columns]"
            ]
          },
          "metadata": {
            "tags": []
          },
          "execution_count": 11
        }
      ]
    },
    {
      "cell_type": "code",
      "metadata": {
        "colab": {
          "base_uri": "https://localhost:8080/",
          "height": 195
        },
        "id": "w8cZjqVV6lyG",
        "outputId": "6c518c6c-fbab-420b-844a-68e1a1e5fbb7"
      },
      "source": [
        "df['length'] = df['Tweet'].apply(len)\n",
        "df.head()"
      ],
      "execution_count": null,
      "outputs": [
        {
          "output_type": "execute_result",
          "data": {
            "text/html": [
              "<div>\n",
              "<style scoped>\n",
              "    .dataframe tbody tr th:only-of-type {\n",
              "        vertical-align: middle;\n",
              "    }\n",
              "\n",
              "    .dataframe tbody tr th {\n",
              "        vertical-align: top;\n",
              "    }\n",
              "\n",
              "    .dataframe thead th {\n",
              "        text-align: right;\n",
              "    }\n",
              "</style>\n",
              "<table border=\"1\" class=\"dataframe\">\n",
              "  <thead>\n",
              "    <tr style=\"text-align: right;\">\n",
              "      <th></th>\n",
              "      <th>id</th>\n",
              "      <th>Tweet</th>\n",
              "      <th>score2</th>\n",
              "      <th>compound</th>\n",
              "      <th>comp_score</th>\n",
              "      <th>length</th>\n",
              "    </tr>\n",
              "  </thead>\n",
              "  <tbody>\n",
              "    <tr>\n",
              "      <th>366</th>\n",
              "      <td>8287</td>\n",
              "      <td>(YouTube) The Murder of Antoinette Chase – Mur...</td>\n",
              "      <td>{'neg': 0.432, 'neu': 0.568, 'pos': 0.0, 'comp...</td>\n",
              "      <td>-0.9403</td>\n",
              "      <td>neg</td>\n",
              "      <td>316</td>\n",
              "    </tr>\n",
              "    <tr>\n",
              "      <th>486</th>\n",
              "      <td>8407</td>\n",
              "      <td>Dear #iphone5 FUCK YOU!! YOURE MAKING MY 4 CRA...</td>\n",
              "      <td>{'neg': 0.411, 'neu': 0.511, 'pos': 0.078, 'co...</td>\n",
              "      <td>-0.9197</td>\n",
              "      <td>neg</td>\n",
              "      <td>122</td>\n",
              "    </tr>\n",
              "    <tr>\n",
              "      <th>28</th>\n",
              "      <td>7949</td>\n",
              "      <td>My iPhone 5 charger has broken. I bought two n...</td>\n",
              "      <td>{'neg': 0.481, 'neu': 0.519, 'pos': 0.0, 'comp...</td>\n",
              "      <td>-0.9186</td>\n",
              "      <td>neg</td>\n",
              "      <td>103</td>\n",
              "    </tr>\n",
              "    <tr>\n",
              "      <th>100</th>\n",
              "      <td>8021</td>\n",
              "      <td>#Apple is trying to ban all #HTC phones from t...</td>\n",
              "      <td>{'neg': 0.382, 'neu': 0.618, 'pos': 0.0, 'comp...</td>\n",
              "      <td>-0.8948</td>\n",
              "      <td>neg</td>\n",
              "      <td>120</td>\n",
              "    </tr>\n",
              "    <tr>\n",
              "      <th>145</th>\n",
              "      <td>8066</td>\n",
              "      <td>“@WeeShanksy: Stupid shitty hateful phone has ...</td>\n",
              "      <td>{'neg': 0.481, 'neu': 0.519, 'pos': 0.0, 'comp...</td>\n",
              "      <td>-0.8807</td>\n",
              "      <td>neg</td>\n",
              "      <td>116</td>\n",
              "    </tr>\n",
              "  </tbody>\n",
              "</table>\n",
              "</div>"
            ],
            "text/plain": [
              "       id                                              Tweet  ... comp_score  length\n",
              "366  8287  (YouTube) The Murder of Antoinette Chase – Mur...  ...        neg     316\n",
              "486  8407  Dear #iphone5 FUCK YOU!! YOURE MAKING MY 4 CRA...  ...        neg     122\n",
              "28   7949  My iPhone 5 charger has broken. I bought two n...  ...        neg     103\n",
              "100  8021  #Apple is trying to ban all #HTC phones from t...  ...        neg     120\n",
              "145  8066  “@WeeShanksy: Stupid shitty hateful phone has ...  ...        neg     116\n",
              "\n",
              "[5 rows x 6 columns]"
            ]
          },
          "metadata": {
            "tags": []
          },
          "execution_count": 12
        }
      ]
    },
    {
      "cell_type": "code",
      "metadata": {
        "id": "gzxirPmb6n7k"
      },
      "source": [
        "import matplotlib.pyplot as plt\n",
        "import seaborn as sns\n",
        "\n",
        "%matplotlib inline"
      ],
      "execution_count": null,
      "outputs": []
    },
    {
      "cell_type": "code",
      "metadata": {
        "colab": {
          "base_uri": "https://localhost:8080/",
          "height": 282
        },
        "id": "YdYKpEQ_6qGE",
        "outputId": "8390cd10-5c41-4b52-db3b-061db65a0401"
      },
      "source": [
        "df['length'].plot(bins=100, kind='hist') "
      ],
      "execution_count": null,
      "outputs": [
        {
          "output_type": "execute_result",
          "data": {
            "text/plain": [
              "<matplotlib.axes._subplots.AxesSubplot at 0x7fd20b74df90>"
            ]
          },
          "metadata": {
            "tags": []
          },
          "execution_count": 14
        },
        {
          "output_type": "display_data",
          "data": {
            "image/png": "[encoded data removed]",
            "text/plain": [
              "<Figure size 432x288 with 1 Axes>"
            ]
          },
          "metadata": {
            "tags": [],
            "needs_background": "light"
          }
        }
      ]
    },
    {
      "cell_type": "code",
      "metadata": {
        "colab": {
          "base_uri": "https://localhost:8080/"
        },
        "id": "2TpQKIP-6sww",
        "outputId": "cb5c0ddf-1436-4cbb-96a2-60bfff989bad"
      },
      "source": [
        "df.length.describe()"
      ],
      "execution_count": null,
      "outputs": [
        {
          "output_type": "execute_result",
          "data": {
            "text/plain": [
              "count    499.000000\n",
              "mean     129.292585\n",
              "std       47.834581\n",
              "min       47.000000\n",
              "25%      107.000000\n",
              "50%      123.000000\n",
              "75%      131.500000\n",
              "max      348.000000\n",
              "Name: length, dtype: float64"
            ]
          },
          "metadata": {
            "tags": []
          },
          "execution_count": 15
        }
      ]
    },
    {
      "cell_type": "code",
      "metadata": {
        "colab": {
          "base_uri": "https://localhost:8080/",
          "height": 447
        },
        "id": "3oCY2a1m6utn",
        "outputId": "0841d53a-4e5f-462c-841c-7f6d17014b3c"
      },
      "source": [
        "df.hist(column='length', by='comp_score', bins=50,figsize=(20,6))"
      ],
      "execution_count": null,
      "outputs": [
        {
          "output_type": "execute_result",
          "data": {
            "text/plain": [
              "array([<matplotlib.axes._subplots.AxesSubplot object at 0x7fd20b039fd0>,\n",
              "       <matplotlib.axes._subplots.AxesSubplot object at 0x7fd20b0040d0>],\n",
              "      dtype=object)"
            ]
          },
          "metadata": {
            "tags": []
          },
          "execution_count": 16
        },
        {
          "output_type": "display_data",
          "data": {
            "image/png": "[encoded data removed]",
            "text/plain": [
              "<Figure size 1440x432 with 2 Axes>"
            ]
          },
          "metadata": {
            "tags": [],
            "needs_background": "light"
          }
        }
      ]
    },
    {
      "cell_type": "code",
      "metadata": {
        "colab": {
          "base_uri": "https://localhost:8080/"
        },
        "id": "6VpHXIRZ6wwh",
        "outputId": "b53f11c7-b736-47e4-9aa5-fd679bb47337"
      },
      "source": [
        "#Testing compound score for a brand new text\n",
        "\n",
        "from nltk.sentiment.vader import SentimentIntensityAnalyzer\n",
        "sid = SentimentIntensityAnalyzer()\n",
        "text_msg=input(\"Enter your text to analyze the sentiment\")\n",
        "print(text_msg)\n",
        "# Calling the polarity_scores method on sid and passing in the message_text outputs a dictionary with negative, neutral, positive, and compound scores for the input text\n",
        "scores = sid.polarity_scores(text_msg)\n",
        "\n",
        "# Here we loop through the keys contained in scores (pos, neu, neg, and compound scores) and print the key-value pairs on the screen\n",
        "\n",
        "for key in sorted(scores):\n",
        "        print('{0}: {1}, '.format(key, scores[key]), end='')\n"
      ],
      "execution_count": null,
      "outputs": [
        {
          "output_type": "stream",
          "text": [
            "Enter your text to analyze the sentimentsad\n",
            "sad\n",
            "compound: -0.4767, neg: 1.0, neu: 0.0, pos: 0.0, "
          ],
          "name": "stdout"
        }
      ]
    },
    {
      "cell_type": "code",
      "metadata": {
        "colab": {
          "base_uri": "https://localhost:8080/"
        },
        "id": "3N6Z3eJm62gE",
        "outputId": "0c501c28-29a2-4df2-de13-2b06279b0bbb"
      },
      "source": [
        "!pip install streamlit --quiet\n",
        "!pip install pyngrok==4.1.1 --quiet\n",
        "from pyngrok import ngrok"
      ],
      "execution_count": null,
      "outputs": [
        {
          "output_type": "stream",
          "text": [
            "\u001b[K     |████████████████████████████████| 8.2MB 6.7MB/s \n",
            "\u001b[K     |████████████████████████████████| 112kB 57.1MB/s \n",
            "\u001b[K     |████████████████████████████████| 81kB 11.8MB/s \n",
            "\u001b[K     |████████████████████████████████| 4.2MB 50.2MB/s \n",
            "\u001b[K     |████████████████████████████████| 92kB 13.6MB/s \n",
            "\u001b[K     |████████████████████████████████| 174kB 54.0MB/s \n",
            "\u001b[K     |████████████████████████████████| 122kB 52.6MB/s \n",
            "\u001b[K     |████████████████████████████████| 71kB 10.8MB/s \n",
            "\u001b[?25h  Building wheel for blinker (setup.py) ... \u001b[?25l\u001b[?25hdone\n",
            "\u001b[31mERROR: google-colab 1.0.0 has requirement ipykernel~=4.10, but you'll have ipykernel 5.5.5 which is incompatible.\u001b[0m\n",
            "  Building wheel for pyngrok (setup.py) ... \u001b[?25l\u001b[?25hdone\n"
          ],
          "name": "stdout"
        }
      ]
    },
    {
      "cell_type": "code",
      "metadata": {
        "colab": {
          "base_uri": "https://localhost:8080/"
        },
        "id": "PR6B89Vt65eJ",
        "outputId": "d826f751-750d-4260-ce68-e6e10036df5f"
      },
      "source": [
        "%%writefile app.py\n",
        "\n",
        "import streamlit as st\n",
        "import numpy as np\n",
        "st.title('Sentiment Analysis')\n",
        "st.text_input(\"Enter the Text for which you want to analyze the sentiment\")\n",
        "st.write(st.text_input)\n",
        "st.write('Result...')\n",
        "from nltk.sentiment.vader import SentimentIntensityAnalyzer\n",
        "sid = SentimentIntensityAnalyzer()\n",
        "scores = sid.polarity_scores(st.text_input)\n",
        "for key in sorted(scores):\n",
        "  st.write('{0}: {1}, '.format(key, scores[key]), end='')\n",
        "else:\n",
        "  st.write(\"Please enter some text\")"
      ],
      "execution_count": null,
      "outputs": [
        {
          "output_type": "stream",
          "text": [
            "Overwriting app.py\n"
          ],
          "name": "stdout"
        }
      ]
    },
    {
      "cell_type": "code",
      "metadata": {
        "colab": {
          "base_uri": "https://localhost:8080/",
          "height": 52
        },
        "id": "iES3Izj27AhZ",
        "outputId": "927a724c-3c12-40a1-f6dc-403dd7a463bb"
      },
      "source": [
        "!nohup streamlit run app.py &\n",
        "url=ngrok.connect(port='8501')\n",
        "url"
      ],
      "execution_count": null,
      "outputs": [
        {
          "output_type": "stream",
          "text": [
            "nohup: appending output to 'nohup.out'\n"
          ],
          "name": "stdout"
        },
        {
          "output_type": "execute_result",
          "data": {
            "application/vnd.google.colaboratory.intrinsic+json": {
              "type": "string"
            },
            "text/plain": [
              "'http://160e05bee220.ngrok.io'"
            ]
          },
          "metadata": {
            "tags": []
          },
          "execution_count": 21
        }
      ]
    }
  ]
}